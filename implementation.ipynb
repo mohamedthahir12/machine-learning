{
  "nbformat": 4,
  "nbformat_minor": 0,
  "metadata": {
    "colab": {
      "provenance": []
    },
    "kernelspec": {
      "name": "python3",
      "display_name": "Python 3"
    },
    "language_info": {
      "name": "python"
    }
  },
  "cells": [
    {
      "cell_type": "code",
      "execution_count": null,
      "metadata": {
        "colab": {
          "base_uri": "https://localhost:8080/"
        },
        "id": "hLJMYbREhJWT",
        "outputId": "030d9da8-fb3d-458c-eae7-efdb57d8244b"
      },
      "outputs": [
        {
          "output_type": "stream",
          "name": "stdout",
          "text": [
            "[0 0 0 1]\n"
          ]
        }
      ],
      "source": [
        "from sklearn import tree\n",
        "Features=[[140,1],[130,1],[150,0],[170,0]]\n",
        "labels=[0,0,1,1]\n",
        "clf=tree.DecisionTreeClassifier()\n",
        "clf=clf.fit(Features,labels)\n",
        "output=clf.predict([[130,1],[140,1],[150,1],[160,0]])\n",
        "print(output)"
      ]
    },
    {
      "cell_type": "code",
      "source": [
        "import numpy as np\n",
        "import matplotlib.pyplot as plt\n",
        "import pandas as pd\n",
        "import warnings\n",
        "warnings.filterwarnings('ignore')\n",
        "dataset=pd.read_csv\"Social_Network_ads.csv\")\n",
        "X=dataset.iloc[:,[2,3]].values\n",
        "Y=dataset.iloc[:,4].values\n",
        "from sklearn.model_selection import train_test_split\n",
        "X_train,X_test,Y_train,Y_test=train_test_split(X,Y,test_size=0.25,random_state=0)\n",
        "from sklearn.preprocessing import StandardScaler\n",
        "sc_X=StandardScaler()\n",
        "X_train=sc_X.fit_transform(X_train)\n",
        "X_test=sc_X.transform(X_test)\n",
        "from sklearn.neighbours import KNeighborsClassifier\n",
        "classifier=KNeighborsClassifier(n_neighbours=5,metric='minkowski',p=2)\n",
        "classifier.fit(X_train,Y_train)\n",
        "Y_pred=classifier.predict(X_test)\n",
        "\n",
        "Y_pred\n",
        "\n",
        "Y_test\n",
        "\n",
        "from sklearn.metrics import confusion_matrix\n",
        "cm=confusion_matrix(Y_test,Y_pred)\n",
        "cm\n",
        "\n",
        "accuracy=classifier.score(X_test,Y_test)\n",
        "print('accuracy of the model is',accuracy*100,'%')\n",
        "\n"
      ],
      "metadata": {
        "colab": {
          "base_uri": "https://localhost:8080/",
          "height": 106
        },
        "id": "Nzpf0SDEio5y",
        "outputId": "7880bcc5-95a4-4dca-d155-e80254cf787d"
      },
      "execution_count": null,
      "outputs": [
        {
          "output_type": "error",
          "ename": "SyntaxError",
          "evalue": "unmatched ')' (<ipython-input-18-6abe7f0ca7ac>, line 6)",
          "traceback": [
            "\u001b[0;36m  File \u001b[0;32m\"<ipython-input-18-6abe7f0ca7ac>\"\u001b[0;36m, line \u001b[0;32m6\u001b[0m\n\u001b[0;31m    dataset=pd.read_csv\"Social_Network_ads.csv\")\u001b[0m\n\u001b[0m                                               ^\u001b[0m\n\u001b[0;31mSyntaxError\u001b[0m\u001b[0;31m:\u001b[0m unmatched ')'\n"
          ]
        }
      ]
    },
    {
      "cell_type": "code",
      "source": [],
      "metadata": {
        "id": "ZFXbGpCOpHKz"
      },
      "execution_count": null,
      "outputs": []
    }
  ]
}