{
  "nbformat": 4,
  "nbformat_minor": 0,
  "metadata": {
    "colab": {
      "provenance": []
    },
    "kernelspec": {
      "name": "python3",
      "display_name": "Python 3"
    },
    "language_info": {
      "name": "python"
    }
  },
  "cells": [
    {
      "cell_type": "code",
      "execution_count": null,
      "metadata": {
        "colab": {
          "base_uri": "https://localhost:8080/"
        },
        "id": "EEzsyEkLrjQZ",
        "outputId": "a0246fb4-dcd8-45ab-afe7-71bf7dee64a1"
      },
      "outputs": [
        {
          "output_type": "stream",
          "name": "stdout",
          "text": [
            "[0]\n"
          ]
        }
      ],
      "source": [
        "from sklearn import tree\n",
        "features=[[140,1],[130,1],[150,0],[170,0]]\n",
        "labels=[0,0,1,1]\n",
        "clf=tree.DecisionTreeClassifier()\n",
        "clf=clf.fit(features,labels)\n",
        "output=clf.predict([[130,1]])\n",
        "print(output)"
      ]
    },
    {
      "cell_type": "code",
      "source": [
        "from sklearn.datasets import load.iris\n",
        "from sklearn.neighbors import kneighborsClassifier\n",
        "from sklearn.model_selection import train_test_split\n",
        "from sklearn import metrices\n",
        "from sklearn.metrics import confusion_matrix\n",
        "\n",
        "iris.dataset=load_iris()\n",
        "\n",
        "x_train,x_test,y_train,y_test=train_test_split(iris_dataset['data'],iris_dataset['target'],random_state=0)\n",
        "print(\"x_Train shape:\",x_train.shape)\n",
        "print(\"y_Train shape:\",y_train.shape)\n",
        "Knn=kneighborsClassifier(n_neighbors=1)\n",
        "\n",
        "Knn.fit(x_train,y_train)\n",
        "\n",
        "prediction=Knn.predict([[4.5,1.2,1.3,1.9]])\n",
        "print(\"prediction:\",prediction)\n",
        "print(\"predicted target name:\",iris.dataset['Target_name'][prediction])\n",
        "y_pred=Knn.predict(x_test)\n",
        "print(\"test set prediction:\",y_pred)\n",
        "print(\"KNN (in %):\",metrics.accuracy_score(y_test, y_pred)*100)\n",
        "\n",
        "\n"
      ],
      "metadata": {
        "colab": {
          "base_uri": "https://localhost:8080/"
        },
        "id": "zz1PcNbIv-3X",
        "outputId": "a3576300-55a1-4101-cd74-65b3b9349851"
      },
      "execution_count": null,
      "outputs": [
        {
          "output_type": "stream",
          "name": "stdout",
          "text": [
            "x_Train shape: (112, 4)\n",
            "y_Train shape: (112,)\n",
            "prediction: [0]\n",
            "predicted target name: ['setosa']\n",
            "test set prediction: [2 1 0 2 0 2 0 1 1 1 2 1 1 1 1 0 1 1 0 0 2 1 0 0 2 0 0 1 1 0 2 1 0 2 2 1 0\n",
            " 2]\n",
            "KNN (in %): 97.36842105263158\n"
          ]
        }
      ]
    }
  ]
}