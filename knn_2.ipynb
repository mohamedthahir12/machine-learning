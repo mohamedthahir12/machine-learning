{
  "nbformat": 4,
  "nbformat_minor": 0,
  "metadata": {
    "colab": {
      "provenance": []
    },
    "kernelspec": {
      "name": "python3",
      "display_name": "Python 3"
    },
    "language_info": {
      "name": "python"
    }
  },
  "cells": [
    {
      "cell_type": "code",
      "execution_count": null,
      "metadata": {
        "colab": {
          "base_uri": "https://localhost:8080/"
        },
        "id": "vUMC50RF6Yrn",
        "outputId": "3cd4bf20-ece7-4fcc-e136-24c6bbeb164b"
      },
      "outputs": [
        {
          "output_type": "stream",
          "name": "stdout",
          "text": [
            "KNN Model accuracy: 1.0\n"
          ]
        }
      ],
      "source": [
        " import numpy as np\n",
        " import pandas as pd\n",
        " from sklearn.datasets import load_iris\n",
        " from sklearn.model_selection import train_test_split\n",
        " from sklearn.neighbors import KNeighborsClassifier\n",
        " from sklearn.metrics import accuracy_score\n",
        " iris = load_iris()\n",
        " x = iris.data\n",
        " y = iris.target\n",
        " x_train, x_test, y_train, y_test = train_test_split(x, y, test_size=0.2, random_state=32)\n",
        " knn=KNeighborsClassifier(n_neighbors=3)\n",
        " knn.fit(x_train, y_train)\n",
        " y_pred = knn.predict(x_test)\n",
        " accuracy = accuracy_score(y_test, y_pred)\n",
        " print(\"KNN Model accuracy:\", accuracy)"
      ]
    }
  ]
}